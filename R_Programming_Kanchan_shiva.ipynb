{
  "nbformat": 4,
  "nbformat_minor": 0,
  "metadata": {
    "colab": {
      "provenance": [],
      "gpuType": "T4"
    },
    "kernelspec": {
      "name": "ir",
      "display_name": "R"
    },
    "language_info": {
      "name": "R"
    },
    "accelerator": "GPU"
  },
  "cells": [
    {
      "cell_type": "markdown",
      "source": [],
      "metadata": {
        "id": "KV4k3URsnEdn"
      }
    },
    {
      "cell_type": "code",
      "source": [
        "# https://github.com/Pankaj-Str/R-Programming-Tutorial/tree/main/04%20Day%20R%20Data%20Types"
      ],
      "metadata": {
        "id": "8gzOJplZnD_3"
      },
      "execution_count": null,
      "outputs": []
    },
    {
      "cell_type": "code",
      "execution_count": null,
      "metadata": {
        "colab": {
          "base_uri": "https://localhost:8080/"
        },
        "id": "G-udGkNPhZ0b",
        "outputId": "808b6150-882b-4832-abf7-3acdf7057d80"
      },
      "outputs": [
        {
          "output_type": "stream",
          "name": "stdout",
          "text": [
            "[1] \"joy\"\n",
            "[1] 45\n"
          ]
        }
      ],
      "source": [
        "# R Comments\n",
        "# R Variables and Constants\n",
        "\n",
        "name <- \"joy\"\n",
        "print(name)\n",
        "\n",
        "age = 45\n",
        "print(age)"
      ]
    },
    {
      "cell_type": "code",
      "source": [
        "age <- 30            # Integer\n",
        "temperature <- 98.6  # Double\n",
        "name <- \"Alice\"      # String\n",
        "is_student <- TRUE   # Logical (TRUE or FALSE)"
      ],
      "metadata": {
        "id": "a5sv_AiVi6i9"
      },
      "execution_count": null,
      "outputs": []
    },
    {
      "cell_type": "code",
      "source": [
        "# R Data types\n",
        "\n",
        "# Numeric\n",
        "x <- 42      # Integer\n",
        "y <- 3.1415  # Double (floating-point)\n",
        "# Character\n",
        "name <- \"Alice\"\n",
        "message <- 'Hello, World!'\n",
        "# Logical\n",
        "is_student <- TRUE\n",
        "is_adult <- FALSE\n",
        "# Integer\n",
        "count <- as.integer(10)\n",
        "# Complex\n",
        "complex_num <- 3 + 2i\n",
        "# Factor\n",
        "gender <- factor(c(\"Male\", \"Female\", \"Male\", \"Female\"))\n",
        "# Date and Time\n",
        "birthdate <- as.Date(\"1995-03-15\")\n",
        "current_time <- Sys.time()\n",
        "# Vector\n",
        "numbers <- c(1, 2, 3, 4, 5)\n",
        "# List\n",
        "person <- list(Name = \"Alice\", Age = 28, isStudent = TRUE)\n",
        "# Data Frame\n",
        "data <- data.frame(Name = c(\"Alice\", \"Bob\", \"Charlie\"),\n",
        "                   Age = c(28, 35, 22))"
      ],
      "metadata": {
        "id": "1dOLDA3yjJqD"
      },
      "execution_count": null,
      "outputs": []
    },
    {
      "cell_type": "code",
      "source": [
        "# R Print Output and Input\n",
        "print(\"codeswithpankaj.com\")"
      ],
      "metadata": {
        "colab": {
          "base_uri": "https://localhost:8080/"
        },
        "id": "otMsMLkAlAlG",
        "outputId": "c84ccd42-4cae-4a1c-d528-3faba06286e9"
      },
      "execution_count": null,
      "outputs": [
        {
          "output_type": "stream",
          "name": "stdout",
          "text": [
            "[1] \"codeswithpankaj.com\"\n"
          ]
        }
      ]
    },
    {
      "cell_type": "code",
      "source": [
        "cat(\"p4n\")"
      ],
      "metadata": {
        "colab": {
          "base_uri": "https://localhost:8080/"
        },
        "id": "F3Dov1fLlGcA",
        "outputId": "b618e1ad-b341-404d-88fe-bc83f3d314f6"
      },
      "execution_count": null,
      "outputs": [
        {
          "output_type": "stream",
          "name": "stdout",
          "text": [
            "p4n"
          ]
        }
      ]
    },
    {
      "cell_type": "code",
      "source": [
        "a <- 10\n",
        "b <- 20\n",
        "cat(\"The sum of a and b is:\", a + b, \"\\n\")"
      ],
      "metadata": {
        "colab": {
          "base_uri": "https://localhost:8080/"
        },
        "id": "zViA605flPfx",
        "outputId": "44fe1460-73cd-405c-c3b2-eac4d3e317a1"
      },
      "execution_count": null,
      "outputs": [
        {
          "output_type": "stream",
          "name": "stdout",
          "text": [
            "The sum of a and b is: 30 \n"
          ]
        }
      ]
    },
    {
      "cell_type": "code",
      "source": [
        "a <- 10\n",
        "b <- 20\n",
        "c = paste(\"The sum of a and b is:\", a + b)\n",
        "print(c)"
      ],
      "metadata": {
        "colab": {
          "base_uri": "https://localhost:8080/"
        },
        "id": "f7pu_Wn9lZuk",
        "outputId": "ebba25c9-1550-4e6d-8f9d-a0b6abeb195e"
      },
      "execution_count": null,
      "outputs": [
        {
          "output_type": "stream",
          "name": "stdout",
          "text": [
            "[1] \"The sum of a and b is: 30\"\n"
          ]
        }
      ]
    },
    {
      "cell_type": "code",
      "source": [
        "name <- \"Bob\"\n",
        "age <- 35\n",
        "output <- sprintf(\"Name: %s, Age: %d\", name, age)\n",
        "cat(output, \"\\n\")"
      ],
      "metadata": {
        "colab": {
          "base_uri": "https://localhost:8080/"
        },
        "id": "0aPArN7Nlsi-",
        "outputId": "a1db75b1-0ddc-44e3-9281-eba1404b9b2b"
      },
      "execution_count": null,
      "outputs": [
        {
          "output_type": "stream",
          "name": "stdout",
          "text": [
            "Name: Bob, Age: 35 \n"
          ]
        }
      ]
    },
    {
      "cell_type": "code",
      "source": [
        "write(\"Hello, World!\", file = \"output.txt\")"
      ],
      "metadata": {
        "id": "bc6q2ajSmBOV"
      },
      "execution_count": null,
      "outputs": []
    },
    {
      "cell_type": "code",
      "source": [
        "# Take user input in R\n",
        "# Prompt the user for input\n",
        "user_input <- readline(\"Enter something: \")\n",
        "\n",
        "# Display the user's input\n",
        "cat(\"You entered:\", user_input, \"\\n\")"
      ],
      "metadata": {
        "colab": {
          "base_uri": "https://localhost:8080/"
        },
        "id": "8qSE69pAmLEt",
        "outputId": "4bc78564-e762-43ee-ac08-84a0f53da94a"
      },
      "execution_count": null,
      "outputs": [
        {
          "output_type": "stream",
          "name": "stdout",
          "text": [
            "Enter something: joy\n",
            "You entered: joy \n"
          ]
        }
      ]
    },
    {
      "cell_type": "code",
      "source": [
        "# Add two numbers\n",
        "print(1 + 2)\n",
        "\n",
        "# Subtract one number from another\n",
        "print(5 - 3)\n",
        "\n",
        "# Multiply two numbers\n",
        "print(2 * 3)\n",
        "\n",
        "# Divide one number by another\n",
        "print(10 / 2)\n",
        "\n",
        "# Raise one number to the power of another\n",
        "print(2 ^ 3)\n",
        "\n",
        "# Find the remainder when one number is divided by another\n",
        "print(10 %% 3)\n",
        "\n",
        "# Find the quotient of the division, discarding the remainder\n",
        "print(10 %/% 3)"
      ],
      "metadata": {
        "colab": {
          "base_uri": "https://localhost:8080/"
        },
        "id": "0kSL_ere9E8r",
        "outputId": "d416607d-3988-4fbb-ee69-c88c2a5225d8"
      },
      "execution_count": null,
      "outputs": [
        {
          "output_type": "stream",
          "name": "stdout",
          "text": [
            "[1] 3\n",
            "[1] 2\n",
            "[1] 6\n",
            "[1] 5\n",
            "[1] 8\n",
            "[1] 1\n",
            "[1] 3\n"
          ]
        }
      ]
    },
    {
      "cell_type": "code",
      "source": [
        "# Check if two numbers are equal\n",
        "print(1 == 2)\n",
        "\n",
        "# Check if two numbers are not equal\n",
        "print(1 != 2)\n",
        "\n",
        "# Check if one number is less than another\n",
        "print(1 < 2)\n",
        "\n",
        "# Check if one number is greater than another\n",
        "print(1 > 2)\n",
        "\n",
        "# Check if one number is less than or equal to another\n",
        "print(1 <= 2)\n",
        "\n",
        "# Check if one number is greater than or equal to another\n",
        "print(1 >= 2)"
      ],
      "metadata": {
        "id": "FZacJH5W-1kj"
      },
      "execution_count": null,
      "outputs": []
    },
    {
      "cell_type": "code",
      "source": [
        "# Check if a number is not equal to zero\n",
        "print(34 != 56)\n",
        "\n",
        "# Check if two numbers are both greater than zero\n",
        "print(1 > 0 & 2 > 0)\n",
        "\n",
        "# Check if at least one number is greater than zero\n",
        "print(1 > 0 | 2 < 0)\n",
        "\n",
        "# && (Short-circuit AND): Evaluates the second condition only if the first is TRUE.\n",
        "\n",
        "# left side | right side  | Result\n",
        "#     TRUE  |   TRUE      | TRUE\n",
        "#     TRUE  |   FALSE     | FALSE\n",
        "#     FALSE |   TRUE      | FALSE\n",
        "#     FALSE |   FALSE     | FALSE\n",
        "\n",
        "print(45 < 88 && 34 <= 23)\n",
        "\n",
        "# || (Short-circuit OR): Evaluates the second condition only if the first is FALSE.\n",
        "# left side | right side  | Result\n",
        "#     TRUE  |   TRUE      | TRUE\n",
        "#     TRUE  |   FALSE     | TRUE\n",
        "#     FALSE |   TRUE      | TRUE\n",
        "#     FALSE |   FALSE     | FALSE\n",
        "\n",
        "print(45 < 88 || 34 <= 23)\n",
        "\n",
        "# Example : --->\n",
        "print(34 < 90 && 56==56 || 23 <= 23 && 23 != 23 || 230 < 45)\n",
        "#       t           t         f           f           f\n",
        "#             t\n",
        "#                       t\n",
        "#                               f\n",
        "#                                           f\n",
        "\n",
        "# Example : <---\n",
        "print(34 < 90 && 56==56 || 23 <= 23 && 23 != 23 || 230 < 45)\n",
        "#       t           t         f           f           f\n",
        "#                                               f\n",
        "#                                   f\n",
        "#                         t\n",
        "#             t\n",
        "\n"
      ],
      "metadata": {
        "colab": {
          "base_uri": "https://localhost:8080/"
        },
        "id": "D3AzhPB0_GoL",
        "outputId": "f72651c9-9ea8-4911-abb8-9eff2c04b68c"
      },
      "execution_count": null,
      "outputs": [
        {
          "output_type": "stream",
          "name": "stdout",
          "text": [
            "[1] TRUE\n",
            "[1] TRUE\n",
            "[1] TRUE\n",
            "[1] FALSE\n",
            "[1] TRUE\n",
            "[1] TRUE\n"
          ]
        }
      ]
    },
    {
      "cell_type": "code",
      "source": [
        "# Example 1: Simple if...else\n",
        "x <- 10\n",
        "\n",
        "if (x > 5) {\n",
        "  cat(\"x is greater than 5.\\n\")\n",
        "} else {\n",
        "  cat(\"x is not greater than 5.\\n\")\n",
        "}"
      ],
      "metadata": {
        "colab": {
          "base_uri": "https://localhost:8080/"
        },
        "id": "XLazVdODB0vE",
        "outputId": "72a70144-47c0-44f8-80cb-8761ed516112"
      },
      "execution_count": null,
      "outputs": [
        {
          "output_type": "stream",
          "name": "stdout",
          "text": [
            "x is greater than 5.\n"
          ]
        }
      ]
    },
    {
      "cell_type": "code",
      "source": [
        "# Date : 18 - 12 - 2023\n",
        "\n",
        "# R ifelse() Function\n",
        "\n",
        "# ifelse(test_expression, yes_expression, no_expression)\n",
        "\n",
        "ifelse(45%%2==0,'Number is evan','Number is odd')"
      ],
      "metadata": {
        "colab": {
          "base_uri": "https://localhost:8080/",
          "height": 34
        },
        "id": "YvfwxZA8vLoM",
        "outputId": "57610a44-bb22-4e1a-cc30-e7619d2536ea"
      },
      "execution_count": null,
      "outputs": [
        {
          "output_type": "display_data",
          "data": {
            "text/html": [
              "'Number is odd'"
            ],
            "text/markdown": "'Number is odd'",
            "text/latex": "'Number is odd'",
            "text/plain": [
              "[1] \"Number is odd\""
            ]
          },
          "metadata": {}
        }
      ]
    },
    {
      "cell_type": "code",
      "source": [
        "# Example: Using ifelse() to categorize exam scores\n",
        "scores <- c(78, 92, 64, 88, 75)\n",
        "grades <- ifelse(scores >= 90, \"A\", ifelse(scores >= 80, \"B\", ifelse(scores >= 70, \"C\", \"D\")))\n",
        "\n",
        "# Print the result\n",
        "cat(\"Grades:\", grades, \"\\n\")"
      ],
      "metadata": {
        "colab": {
          "base_uri": "https://localhost:8080/"
        },
        "id": "kPMKwuLMx8li",
        "outputId": "55801128-4e99-4556-d1c6-00e21aad021d"
      },
      "execution_count": null,
      "outputs": [
        {
          "output_type": "stream",
          "name": "stdout",
          "text": [
            "Grades: C A D B C \n"
          ]
        }
      ]
    },
    {
      "cell_type": "code",
      "source": [
        "# R for Loop\n",
        "\n",
        "# for (variable in sequence) {\n",
        "   # Code to be executed for each element in the sequence\n",
        "# }\n",
        "\n",
        "for(i in 1:10){\n",
        "  cat(i,'\\n')\n",
        "}"
      ],
      "metadata": {
        "colab": {
          "base_uri": "https://localhost:8080/"
        },
        "id": "PpHoLt03ySZT",
        "outputId": "fb703150-9000-4b0c-ab84-6bc5d95f55a5"
      },
      "execution_count": null,
      "outputs": [
        {
          "output_type": "stream",
          "name": "stdout",
          "text": [
            "1 \n",
            "2 \n",
            "3 \n",
            "4 \n",
            "5 \n",
            "6 \n",
            "7 \n",
            "8 \n",
            "9 \n",
            "10 \n"
          ]
        }
      ]
    },
    {
      "cell_type": "code",
      "source": [
        "# Example: Using a for loop to iterate through elements in a vector\n",
        "fruits <- c(\"apple\", \"banana\", \"cherry\", \"date\")\n",
        "\n",
        "for (fruit in fruits) {\n",
        "  cat(\"Fruit:\", fruit, \"\\n\")\n",
        "}"
      ],
      "metadata": {
        "colab": {
          "base_uri": "https://localhost:8080/"
        },
        "id": "Qw6Pbhidysfi",
        "outputId": "ebbae71c-3987-46f0-b3a9-4e0e9f0d8444"
      },
      "execution_count": null,
      "outputs": [
        {
          "output_type": "stream",
          "name": "stdout",
          "text": [
            "Fruit: apple \n",
            "Fruit: banana \n",
            "Fruit: cherry \n",
            "Fruit: date \n"
          ]
        }
      ]
    },
    {
      "cell_type": "code",
      "source": [
        "for(i in 1:10){\n",
        "  cat(i*2,'\\n')\n",
        "}"
      ],
      "metadata": {
        "colab": {
          "base_uri": "https://localhost:8080/"
        },
        "id": "NUnsmLzdy46B",
        "outputId": "a13f2d29-8037-4447-bf2c-2c2dc2f1719f"
      },
      "execution_count": null,
      "outputs": [
        {
          "output_type": "stream",
          "name": "stdout",
          "text": [
            "2 \n",
            "4 \n",
            "6 \n",
            "8 \n",
            "10 \n",
            "12 \n",
            "14 \n",
            "16 \n",
            "18 \n",
            "20 \n"
          ]
        }
      ]
    },
    {
      "cell_type": "code",
      "source": [
        "# while (condition) {\n",
        "#   # Code to be executed while the condition is TRUE\n",
        "#   # The condition should eventually become FALSE to exit the loop\n",
        "# }\n",
        "\n",
        "# start point\n",
        "# end point\n",
        "# output\n",
        "# ++ /--\n",
        "\n",
        "i <- 1\n",
        "while(i <= 10){\n",
        "  cat(i,' \\n')\n",
        "  i = i + 1\n",
        "}"
      ],
      "metadata": {
        "colab": {
          "base_uri": "https://localhost:8080/"
        },
        "id": "4dFnNzqBy9qh",
        "outputId": "8a02c2ae-ea48-4384-8d71-4785235e8d30"
      },
      "execution_count": null,
      "outputs": [
        {
          "output_type": "stream",
          "name": "stdout",
          "text": [
            "1  \n",
            "2  \n",
            "3  \n",
            "4  \n",
            "5  \n",
            "6  \n",
            "7  \n",
            "8  \n",
            "9  \n",
            "10  \n"
          ]
        }
      ]
    },
    {
      "cell_type": "code",
      "source": [
        "# R repeat Loop\n",
        "#repeat {\n",
        "  # Code to be executed repeatedly\n",
        "#  if (condition) {\n",
        "#    break  # Terminate the loop if the condition is met\n",
        "#  }\n",
        "#}"
      ],
      "metadata": {
        "id": "SaoGoM5sU4Jy"
      },
      "execution_count": null,
      "outputs": []
    },
    {
      "cell_type": "code",
      "source": [
        "# Example: Using a repeat loop to count from 1 to 5\n",
        "count <- 1\n",
        "\n",
        "repeat {\n",
        "  cat(\"Count:\", count, \"\\n\")\n",
        "  count <- count + 1\n",
        "  if (count > 5) {\n",
        "    break  # Terminate the loop when count reaches 5\n",
        "  }\n",
        "}"
      ],
      "metadata": {
        "colab": {
          "base_uri": "https://localhost:8080/"
        },
        "id": "lxhjQet6Vu0R",
        "outputId": "db459f02-f76f-4b3a-81ef-a61860264260"
      },
      "execution_count": null,
      "outputs": [
        {
          "output_type": "stream",
          "name": "stdout",
          "text": [
            "Count: 1 \n",
            "Count: 2 \n",
            "Count: 3 \n",
            "Count: 4 \n",
            "Count: 5 \n"
          ]
        }
      ]
    },
    {
      "cell_type": "code",
      "source": [
        "i <- 1\n",
        "while(TRUE){\n",
        "  if(i < 100){\n",
        "    cat(\"\\n*******\",i)\n",
        "    #next;\n",
        "\n",
        "  }else{\n",
        "    cat(\"\\nthis is numbers : \",i)\n",
        "    break;\n",
        "  }\n",
        "  i = i + 1\n",
        "\n",
        "}"
      ],
      "metadata": {
        "colab": {
          "base_uri": "https://localhost:8080/"
        },
        "id": "ymcgApAUWRMp",
        "outputId": "565f5b5a-1363-4e07-9975-50e17737fca5"
      },
      "execution_count": null,
      "outputs": [
        {
          "output_type": "stream",
          "name": "stdout",
          "text": [
            "\n",
            "******* 1\n",
            "******* 2\n",
            "******* 3\n",
            "******* 4\n",
            "******* 5\n",
            "******* 6\n",
            "******* 7\n",
            "******* 8\n",
            "******* 9\n",
            "******* 10\n",
            "******* 11\n",
            "******* 12\n",
            "******* 13\n",
            "******* 14\n",
            "******* 15\n",
            "******* 16\n",
            "******* 17\n",
            "******* 18\n",
            "******* 19\n",
            "******* 20\n",
            "******* 21\n",
            "******* 22\n",
            "******* 23\n",
            "******* 24\n",
            "******* 25\n",
            "******* 26\n",
            "******* 27\n",
            "******* 28\n",
            "******* 29\n",
            "******* 30\n",
            "******* 31\n",
            "******* 32\n",
            "******* 33\n",
            "******* 34\n",
            "******* 35\n",
            "******* 36\n",
            "******* 37\n",
            "******* 38\n",
            "******* 39\n",
            "******* 40\n",
            "******* 41\n",
            "******* 42\n",
            "******* 43\n",
            "******* 44\n",
            "******* 45\n",
            "******* 46\n",
            "******* 47\n",
            "******* 48\n",
            "******* 49\n",
            "******* 50\n",
            "******* 51\n",
            "******* 52\n",
            "******* 53\n",
            "******* 54\n",
            "******* 55\n",
            "******* 56\n",
            "******* 57\n",
            "******* 58\n",
            "******* 59\n",
            "******* 60\n",
            "******* 61\n",
            "******* 62\n",
            "******* 63\n",
            "******* 64\n",
            "******* 65\n",
            "******* 66\n",
            "******* 67\n",
            "******* 68\n",
            "******* 69\n",
            "******* 70\n",
            "******* 71\n",
            "******* 72\n",
            "******* 73\n",
            "******* 74\n",
            "******* 75\n",
            "******* 76\n",
            "******* 77\n",
            "******* 78\n",
            "******* 79\n",
            "******* 80\n",
            "******* 81\n",
            "******* 82\n",
            "******* 83\n",
            "******* 84\n",
            "******* 85\n",
            "******* 86\n",
            "******* 87\n",
            "******* 88\n",
            "******* 89\n",
            "******* 90\n",
            "******* 91\n",
            "******* 92\n",
            "******* 93\n",
            "******* 94\n",
            "******* 95\n",
            "******* 96\n",
            "******* 97\n",
            "******* 98\n",
            "******* 99\n",
            "this is numbers :  100"
          ]
        }
      ]
    },
    {
      "cell_type": "code",
      "source": [
        "# function  basic\n",
        "\n",
        "info <- function(){\n",
        "  cat(\"your name is : kanchan\")\n",
        "}\n",
        "\n",
        "info()"
      ],
      "metadata": {
        "colab": {
          "base_uri": "https://localhost:8080/"
        },
        "id": "sPNXnimYZpGI",
        "outputId": "cc4c6b20-2591-4362-cefe-e95fdd44ac50"
      },
      "execution_count": null,
      "outputs": [
        {
          "output_type": "stream",
          "name": "stdout",
          "text": [
            "your name is : kanchan"
          ]
        }
      ]
    },
    {
      "cell_type": "code",
      "source": [
        "# arg function\n",
        "\n",
        "user_info <- function(name,age,height){\n",
        "\n",
        "    cat(\"\\n name : \",name)\n",
        "    cat(\"\\n age : \",age)\n",
        "    cat(\"\\n height : \",height)\n",
        "\n",
        "}\n"
      ],
      "metadata": {
        "id": "A4EECQYdaB42"
      },
      "execution_count": null,
      "outputs": []
    },
    {
      "cell_type": "code",
      "source": [
        "user_info(\"kanchan\",21,5.6)\n",
        "user_info(\"joy\",23,5.6)\n"
      ],
      "metadata": {
        "colab": {
          "base_uri": "https://localhost:8080/"
        },
        "id": "_HY_N2tdaYLQ",
        "outputId": "ebcb0242-e8db-4166-9ced-df0403c78b7b"
      },
      "execution_count": null,
      "outputs": [
        {
          "output_type": "stream",
          "name": "stdout",
          "text": [
            "\n",
            " name :  kanchan\n",
            " age :  21\n",
            " height :  5.6\n",
            " name :  joy\n",
            " age :  23\n",
            " height :  5.6"
          ]
        }
      ]
    },
    {
      "cell_type": "code",
      "source": [
        "# Example :\n",
        "bill  <- function(price,gst){\n",
        "    gst_amount <- price*gst/100\n",
        "    total_amount <- price+gst_amount\n",
        "    cat(\"\\n------------bill-----------\\n\")\n",
        "    cat(\"\\n Price : \",price,\"₹\")\n",
        "    cat(\"\\n GST : \",gst,\"%\")\n",
        "    cat(\"\\n GST Amount : \",gst_amount,\"₹\")\n",
        "    cat(\"\\n MRP - Include GST : \",total_amount,\"₹\")\n",
        "\n",
        "}"
      ],
      "metadata": {
        "id": "I_Bw9UGFatFf"
      },
      "execution_count": null,
      "outputs": []
    },
    {
      "cell_type": "code",
      "source": [
        "bill(1200,18)\n",
        "bill(24567,9)\n",
        "bill(4500,2)"
      ],
      "metadata": {
        "colab": {
          "base_uri": "https://localhost:8080/"
        },
        "id": "3vTijvLPbpvu",
        "outputId": "730845c4-4a0b-4a40-89c4-e2feda77b2f6"
      },
      "execution_count": null,
      "outputs": [
        {
          "output_type": "stream",
          "name": "stdout",
          "text": [
            "\n",
            "------------bill-----------\n",
            "\n",
            " Price :  1200 ₹\n",
            " GST :  18 %\n",
            " GST Amount :  216 ₹\n",
            " MRP - Include GST :  1416 ₹\n",
            "------------bill-----------\n",
            "\n",
            " Price :  24567 ₹\n",
            " GST :  9 %\n",
            " GST Amount :  2211.03 ₹\n",
            " MRP - Include GST :  26778.03 ₹\n",
            "------------bill-----------\n",
            "\n",
            " Price :  4500 ₹\n",
            " GST :  2 %\n",
            " GST Amount :  90 ₹\n",
            " MRP - Include GST :  4590 ₹"
          ]
        }
      ]
    },
    {
      "cell_type": "code",
      "source": [
        "# Date : 27 Dec 2023\n",
        "\n",
        "# Creating strings\n",
        "string1 <- \"Hello, World!\"  # Using double quotes\n",
        "string2 <- 'R Programming'  # Using single quotes"
      ],
      "metadata": {
        "id": "4nwNSsf_vPwl"
      },
      "execution_count": null,
      "outputs": []
    },
    {
      "cell_type": "code",
      "source": [
        "# Concatenating strings\n",
        "str1 <- \"Hello\"\n",
        "str2 <- \"World\"\n",
        "concatenated <- paste(str1,str2)\n",
        "cat(\"Concatenated:\", concatenated, \"\\n\")"
      ],
      "metadata": {
        "colab": {
          "base_uri": "https://localhost:8080/"
        },
        "id": "0hpZntkNvb4s",
        "outputId": "52e8e6b8-ef38-4f2a-fca2-5fe7283c2c30"
      },
      "execution_count": null,
      "outputs": [
        {
          "output_type": "stream",
          "name": "stdout",
          "text": [
            "Concatenated: Hello World \n"
          ]
        }
      ]
    },
    {
      "cell_type": "code",
      "source": [
        "# Finding the length of a string\n",
        "text <- \"This is a sample string.\"\n",
        "length_text <- nchar(text)\n",
        "cat(\"Length of the string:\", length_text, \"\\n\")"
      ],
      "metadata": {
        "colab": {
          "base_uri": "https://localhost:8080/"
        },
        "id": "BhayT5Efvsnl",
        "outputId": "98ae46a5-def6-45b3-b4de-7a86bc511626"
      },
      "execution_count": null,
      "outputs": [
        {
          "output_type": "stream",
          "name": "stdout",
          "text": [
            "Length of the string: 24 \n"
          ]
        }
      ]
    },
    {
      "cell_type": "code",
      "source": [
        "# Extracting substrings\n",
        "text <- \"codeswithpankaj.com\"\n",
        "substring <- substr(text, start = 2, stop = 10)\n",
        "cat(\"Substring:\", substring, \"\\n\")"
      ],
      "metadata": {
        "colab": {
          "base_uri": "https://localhost:8080/"
        },
        "id": "5lLMMB3Dvw6y",
        "outputId": "52caacba-e6cc-4bf8-bef8-eb2a73c27cc1"
      },
      "execution_count": null,
      "outputs": [
        {
          "output_type": "stream",
          "name": "stdout",
          "text": [
            "Substring: odeswithp \n"
          ]
        }
      ]
    },
    {
      "cell_type": "code",
      "source": [
        "# Converting to lowercase\n",
        "text <- \"Hello, World!\"\n",
        "lower_text <- tolower(text)\n",
        "cat(\"Lowercase:\", lower_text, \"\\n\")"
      ],
      "metadata": {
        "colab": {
          "base_uri": "https://localhost:8080/"
        },
        "id": "W-lbwefVwB2K",
        "outputId": "091b7348-28c3-4cca-cc02-abd31db714a6"
      },
      "execution_count": null,
      "outputs": [
        {
          "output_type": "stream",
          "name": "stdout",
          "text": [
            "Lowercase: hello, world! \n"
          ]
        }
      ]
    },
    {
      "cell_type": "code",
      "source": [
        "# String comparison\n",
        "text1 <- \"apple\"\n",
        "text2 <- \"banana\"\n",
        "result <- text1 > text2\n",
        "cat(\"Comparison result:\", result, \"\\n\")"
      ],
      "metadata": {
        "colab": {
          "base_uri": "https://localhost:8080/"
        },
        "id": "IG3fS7SQwFWN",
        "outputId": "cd9dcaac-5517-4463-8ee9-4df2e252ff5b"
      },
      "execution_count": null,
      "outputs": [
        {
          "output_type": "stream",
          "name": "stdout",
          "text": [
            "Comparison result: FALSE \n"
          ]
        }
      ]
    },
    {
      "cell_type": "code",
      "source": [
        "# String interpolation\n",
        "name <- \"Alice\"\n",
        "age <- 30\n",
        "greeting <- sprintf(\"Hello, my name is %s and I am %d years old.\", name, age)\n",
        "cat(\"Greeting:\", greeting, \"\\n\")"
      ],
      "metadata": {
        "colab": {
          "base_uri": "https://localhost:8080/"
        },
        "id": "dyVVMvh2wMSL",
        "outputId": "372faf63-47c9-4199-eb68-2e63019781fd"
      },
      "execution_count": null,
      "outputs": [
        {
          "output_type": "stream",
          "name": "stdout",
          "text": [
            "Greeting: Hello, my name is Alice and I am 30 years old. \n"
          ]
        }
      ]
    },
    {
      "cell_type": "code",
      "source": [
        "# Splitting and joining strings\n",
        "text <- \"apple,banana,cherry\"\n",
        "split_text <- strsplit(text, \",\")[[1]]\n",
        "joined_text <- paste(split_text, collapse = \" - \")\n",
        "cat(\"Joined text:\", joined_text, \"\\n\")"
      ],
      "metadata": {
        "colab": {
          "base_uri": "https://localhost:8080/"
        },
        "id": "pil_D1Ycwaxq",
        "outputId": "20febf98-dba8-4b55-f3de-d05e5dc7fd3f"
      },
      "execution_count": null,
      "outputs": [
        {
          "output_type": "stream",
          "name": "stdout",
          "text": [
            "Joined text: apple - banana - cherry \n"
          ]
        }
      ]
    },
    {
      "cell_type": "code",
      "source": [
        "# R Vectors\n",
        "\n",
        "# Creating numeric vectors\n",
        "numeric_vector <- c(1, 2, 3, 4, 5)\n",
        "\n",
        "# Creating character vectors\n",
        "character_vector <- c(\"apple\", \"banana\", \"cherry\")\n",
        "\n",
        "# Creating logical vectors\n",
        "logical_vector <- c(TRUE, FALSE, TRUE, FALSE)"
      ],
      "metadata": {
        "id": "ojxohqOswoQR"
      },
      "execution_count": null,
      "outputs": []
    },
    {
      "cell_type": "code",
      "source": [
        "# Arithmetic operations on numeric vectors\n",
        "vector1 <- c(1, 2, 3)\n",
        "vector2 <- c(4, 5, 6)\n",
        "result_addition <- vector1 + vector2\n",
        "result_multiplication <- vector1 * vector2\n",
        "cat(\"\\n add \",result_addition)\n",
        "cat(\"\\n mul \",result_multiplication)\n",
        "\n",
        "# Element-wise comparisons on numeric vectors\n",
        "comparison_result <- vector1 > vector2\n",
        "\n",
        "# Logical operations on logical vectors\n",
        "logical_result <- vector1 < 3 & vector2 >= 5"
      ],
      "metadata": {
        "colab": {
          "base_uri": "https://localhost:8080/"
        },
        "id": "xe5wk0hawwlg",
        "outputId": "cfc840ef-f358-4edc-9000-099d2c80978c"
      },
      "execution_count": null,
      "outputs": [
        {
          "output_type": "stream",
          "name": "stdout",
          "text": [
            "\n",
            " add  5 7 9\n",
            " mul  4 10 18"
          ]
        }
      ]
    },
    {
      "cell_type": "code",
      "source": [
        "# Accessing elements of a vector\n",
        "numeric_vector <- c(10, 20, 30, 40, 50)\n",
        "first_element <- numeric_vector[1]\n",
        "third_element <- numeric_vector[3]\n",
        "cat(first_element)\n",
        "cat(third_element)"
      ],
      "metadata": {
        "colab": {
          "base_uri": "https://localhost:8080/"
        },
        "id": "IY15PNSLxgHm",
        "outputId": "fd7877f2-c089-4a69-89e8-574a14f65208"
      },
      "execution_count": null,
      "outputs": [
        {
          "output_type": "stream",
          "name": "stdout",
          "text": [
            "1030"
          ]
        }
      ]
    },
    {
      "cell_type": "code",
      "source": [
        "# Vector functions\n",
        "numeric_vector <- c(10, 20, 30, 40, 50)\n",
        "vector_length <- length(numeric_vector)\n",
        "vector_sum <- sum(numeric_vector)\n",
        "vector_mean <- mean(numeric_vector)"
      ],
      "metadata": {
        "id": "-EIMBBZJx5Tl"
      },
      "execution_count": null,
      "outputs": []
    },
    {
      "cell_type": "code",
      "source": [
        "# Vectorized operations\n",
        "numeric_vector <- c(1, 2, 3, 4, 5)\n",
        "square_vector <- numeric_vector^4\n",
        "cat(square_vector)"
      ],
      "metadata": {
        "colab": {
          "base_uri": "https://localhost:8080/"
        },
        "id": "rvLwHcqzx9w8",
        "outputId": "ead480c7-6829-40b2-8bcf-65e8967c3232"
      },
      "execution_count": null,
      "outputs": [
        {
          "output_type": "stream",
          "name": "stdout",
          "text": [
            "1 16 81 256 625"
          ]
        }
      ]
    },
    {
      "cell_type": "code",
      "source": [
        "# Assigning names to vector elements\n",
        "vector <- c(a = 10, b = 20, c = 30)"
      ],
      "metadata": {
        "id": "RHGmm-PmyGiM"
      },
      "execution_count": null,
      "outputs": []
    },
    {
      "cell_type": "code",
      "source": [
        "# Creating a factor\n",
        "gender <- c(\"aemale\",\"ale\")\n",
        "gender_factor <- factor(gender)\n",
        "cat(gender_factor)"
      ],
      "metadata": {
        "colab": {
          "base_uri": "https://localhost:8080/"
        },
        "id": "MweahuUzyLvV",
        "outputId": "b248513d-456e-4c99-af30-99da19818d76"
      },
      "execution_count": null,
      "outputs": [
        {
          "output_type": "stream",
          "name": "stdout",
          "text": [
            "1 2"
          ]
        }
      ]
    }
  ]
}